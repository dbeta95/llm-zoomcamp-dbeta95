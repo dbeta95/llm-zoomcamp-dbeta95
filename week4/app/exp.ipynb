{
 "cells": [
  {
   "cell_type": "code",
   "execution_count": 4,
   "metadata": {},
   "outputs": [
    {
     "name": "stdout",
     "output_type": "stream",
     "text": [
      "[('4cd92f2b-06cc-40a9-b066-18d075e96b14', 'I just discovered the course. Can I still join it?', 'The FAQ database does not contain information about joining the course after it has started. Therefore, I cannot answer your question. \\n', 'machine-learning-zoomcamp', 'google/gemini-1.5-flash', 1.3622539043426514, 'PARTLY_RELEVANT', \"The answer acknowledges that it cannot answer the question due to limitations in its knowledge source. This is partly relevant because it shows awareness of its inability, but it doesn't directly address the user's query about joining a course late.\", 695, 24, 719, 203, 66, 269, 0.00026845, datetime.datetime(2024, 8, 2, 4, 34, 45, 924561, tzinfo=datetime.timezone.utc)), ('4d2bd0ec-cb1e-459a-8c3a-3981c16ebc98', 'I just discovered the course. Can I still join it?', 'The FAQ does not contain information about joining a course that has not yet started. Therefore, I cannot answer your question. \\n', 'machine-learning-zoomcamp', 'google/gemini-1.5-flash', 1.878263235092163, 'NON_RELEVANT', \"The answer states that it cannot answer the question, indicating it did not find relevant information about joining an ongoing course. It focuses on courses that haven't started, which is not implied in the question.\", 540, 24, 564, 203, 59, 262, 0.00021419999999999998, datetime.datetime(2024, 8, 2, 5, 0, 38, 705765, tzinfo=datetime.timezone.utc)), ('b0182c00-5e58-40fd-bbdc-31f244a99d00', 'I just discovered the course. Can I still join it?', 'Yes, you can still join the course. You are even welcome to submit homework without registering. Registration is just used to gauge interest. \\n', 'data-engineering-zoomcamp', 'google/gemini-1.5-pro', 1.2078018188476562, 'PARTLY_RELEVANT', \"The answer addresses the possibility of joining the course but introduces potentially inaccurate information about homework submission and registration. While the intent to be helpful is clear, suggesting participation without registration might not reflect the course's actual policies.\", 488, 27, 515, 206, 62, 268, 0.0019915, datetime.datetime(2024, 8, 2, 5, 4, 15, 917913, tzinfo=datetime.timezone.utc)), ('d025123f-6dcf-4641-996c-6718a9d574a2', 'I just discovered the course. Can I still join it?', 'Yes, you can still join the course. You can even submit homework without registering. Registration is only used to gauge interest. \\n', 'data-engineering-zoomcamp', 'google/gemini-1.5-pro', 2.4238879680633545, 'PARTLY_RELEVANT', 'The answer addresses the possibility of joining the course but introduces potentially incorrect information about homework submission and registration purpose. It might be partially relevant if registration is indeed not mandatory but only for gauging interest.', 488, 25, 513, 204, 58, 262, 0.0019705, datetime.datetime(2024, 8, 2, 15, 9, 4, 605379, tzinfo=datetime.timezone.utc)), ('d8ce2819-4d2d-4c07-8bf8-ab346287b84c', 'What can i learn in this course?', 'The provided FAQ database does not contain information about what you can learn in the course. \\n', 'mlops-zoomcamp', 'google/gemini-1.5-flash', 1.6589810848236084, 'NON_RELEVANT', \"While the answer states that the information is not in the provided database, it does not attempt to answer the user's question about the course content. Therefore, it is not relevant.\", 602, 17, 619, 192, 55, 247, 0.00022854999999999997, datetime.datetime(2024, 8, 3, 17, 47, 53, 941480, tzinfo=datetime.timezone.utc)), ('94dbe8bf-3d02-481f-85b9-78ea693f83b4', 'I just dist discovered the course. Can I still join it?', 'Yes, you can still join the course. You can go through the materials at any time since it is self-paced. However, you may not be able to submit some of the homework assignments. \\n', 'machine-learning-zoomcamp', 'google/gemini-1.5-pro', 1.8626089096069336, 'RELEVANT', \"The generated answer directly addresses the user's question about joining the course and provides additional relevant information about the course format and potential limitations.\", 541, 40, 581, 220, 43, 263, 0.0023135, datetime.datetime(2024, 8, 3, 17, 58, 50, 103992, tzinfo=datetime.timezone.utc)), ('c6177a61-bfb0-4294-aa0c-c078900426ac', 'Do i need to have any previous knowledge for the course?', 'The FAQ does not contain information about previous knowledge requirements for the course. \\n', 'data-engineering-zoomcamp', 'google/gemini-1.5-flash', 1.74489426612854, 'PARTLY_RELEVANT', 'The answer implies it tried to find information about previous knowledge requirements but could not find an answer in the FAQ. This is partially relevant because it at least understands the user is asking about prerequisites, but it fails to provide a useful answer.', 609, 14, 623, 193, 66, 259, 0.00022784999999999995, datetime.datetime(2024, 8, 3, 23, 51, 32, 161055, tzinfo=datetime.timezone.utc)), ('1e8f8b2d-1541-41fd-aecc-b8c09c567439', 'Do i need to have any previous knowledge for the course?', 'The provided context does not contain information about prerequisites or required previous knowledge for the course. Therefore, I cannot answer your question. \\n', 'data-engineering-zoomcamp', 'google/gemini-1.5-pro', 1.1177172660827637, 'RELEVANT', \"The answer correctly states that the context does not have information about prerequisites. Even though it couldn't answer the user's question, it acknowledges the question and explains why it cannot be answered. This makes it relevant to the user's query.\", 500, 25, 525, 204, 66, 270, 0.0020125, datetime.datetime(2024, 8, 3, 23, 51, 49, 297986, tzinfo=datetime.timezone.utc)), ('805f63e9-788e-4348-98ae-2044194da537', 'Can I join the course after it has already started?', 'Yes, you can still submit homework even if you register after the course start date. However, keep in mind that there are deadlines for final projects. \\n', 'data-engineering-zoomcamp', 'google/gemini-1.5-pro', 1.2034599781036377, 'PARTLY_RELEVANT', \"The answer addresses the possibility of submitting work after a course starts, but it doesn't directly answer the question of joining the course late. It implies that joining late is possible but focuses on the implications rather than a direct confirmation.\", 499, 30, 529, 208, 65, 273, 0.0020615, datetime.datetime(2024, 8, 3, 23, 52, 35, 157490, tzinfo=datetime.timezone.utc))]\n"
     ]
    }
   ],
   "source": [
    "import psycopg2\n",
    "import os\n",
    "from dotenv import load_dotenv\n",
    "\n",
    "load_dotenv()\n",
    "\n",
    "\n",
    "\n",
    "def connect_to_postgres(dbname, user, password, host=\"localhost\", port=5432):\n",
    "  \"\"\"Connects to a PostgreSQL database and returns a connection object.\n",
    "\n",
    "  Args:\n",
    "    dbname: The name of the database.\n",
    "    user: The username for the database.\n",
    "    password: The password for the database.\n",
    "    host: The hostname of the database server. Defaults to \"localhost\".\n",
    "    port: The port number of the database server. Defaults to 5432.\n",
    "\n",
    "  Returns:\n",
    "    A psycopg2 connection object.\n",
    "  \"\"\"\n",
    "\n",
    "  try:\n",
    "    conn = psycopg2.connect(\n",
    "      database=dbname,\n",
    "      user=user,\n",
    "      password=password,\n",
    "      host=host,\n",
    "      port=port\n",
    "    )\n",
    "    return conn\n",
    "  except psycopg2.Error as e:\n",
    "    print(\"Error connecting to PostgreSQL:\", e)\n",
    "    return None\n",
    "\n",
    "conn = connect_to_postgres(\n",
    "  dbname=os.getenv(\"POSTGRES_DB\", \"course_assistant\"),\n",
    "  user=os.getenv(\"POSTGRES_USER\", \"your_username\"),\n",
    "  password=os.getenv(\"POSTGRES_PASSWORD\", \"your_password\")\n",
    ")\n",
    "\n",
    "\n",
    "if conn:\n",
    "  # Use the connection to execute SQL queries\n",
    "  cursor = conn.cursor()\n",
    "  cursor.execute(\"SELECT * FROM conversations\")\n",
    "  rows = cursor.fetchall()\n",
    "  print(rows)\n",
    "\n",
    "  cursor.close()\n",
    "  conn.close()\n"
   ]
  },
  {
   "cell_type": "code",
   "execution_count": 8,
   "metadata": {},
   "outputs": [],
   "source": [
    "import google.generativeai as genai\n",
    "\n",
    "GOOGLE_API_KEY = os.getenv('GOOGLE_API_KEY')\n",
    "\n",
    "safety_settings={\n",
    "    'HARM_CATEGORY_HARASSMENT': 'BLOCK_NONE',\n",
    "    'HARM_CATEGORY_HATE_SPEECH': 'BLOCK_NONE',\n",
    "    'HARM_CATEGORY_SEXUALLY_EXPLICIT': 'BLOCK_NONE',\n",
    "    'HARM_CATEGORY_DANGEROUS_CONTENT': 'BLOCK_NONE'\n",
    "}\n",
    "generation_config=genai.types.GenerationConfig(\n",
    "    candidate_count=1, \n",
    "    temperature=0\n",
    ")\n",
    "\n",
    "genai.configure(api_key=GOOGLE_API_KEY)\n",
    "\n",
    "model = genai.GenerativeModel(\"gemini-1.5-pro-exp-0801\")\n",
    "responses = model.generate_content(\n",
    "    contents = \"Hola, Gemini. Puedes darme un codigo en python para crear un app ideal para un rag que te utilice como llm\",\n",
    "    safety_settings = safety_settings,\n",
    "    generation_config = generation_config\n",
    ")\n",
    "answer = \"\".join(response.text for response in responses)"
   ]
  }
 ],
 "metadata": {
  "kernelspec": {
   "display_name": "llm-zoomcampt-3.10",
   "language": "python",
   "name": "python3"
  },
  "language_info": {
   "codemirror_mode": {
    "name": "ipython",
    "version": 3
   },
   "file_extension": ".py",
   "mimetype": "text/x-python",
   "name": "python",
   "nbconvert_exporter": "python",
   "pygments_lexer": "ipython3",
   "version": "3.10.11"
  }
 },
 "nbformat": 4,
 "nbformat_minor": 2
}
