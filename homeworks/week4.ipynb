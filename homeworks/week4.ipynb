{
 "cells": [
  {
   "cell_type": "markdown",
   "metadata": {},
   "source": [
    "# Homework: Evaluation and Monitoring\n",
    "\n",
    "In this homework we'll evaluate the quality of our RAG systems"
   ]
  },
  {
   "cell_type": "markdown",
   "metadata": {},
   "source": [
    "## Getting the data\n",
    "\n",
    "Let's start by getting the dataset. We will use the data generated in the module, particularly the quality of our RAG system with \"gpt-4o-mini\""
   ]
  },
  {
   "cell_type": "code",
   "execution_count": 2,
   "metadata": {},
   "outputs": [],
   "source": [
    "import pandas as pd\n",
    "\n",
    "base_url = 'https://github.com/DataTalksClub/llm-zoomcamp/blob/main'\n",
    "relative_url = '04-monitoring/data/results-gpt4o-mini.csv'\n",
    "url = f'{base_url}/{relative_url}?raw=1'\n",
    "\n",
    "df = pd.read_csv(url)\n",
    "\n",
    "results_gpt4o_mini = df.to_dict(orient=\"records\")"
   ]
  },
  {
   "cell_type": "code",
   "execution_count": 3,
   "metadata": {},
   "outputs": [
    {
     "data": {
      "text/plain": [
       "{'answer_llm': 'You can sign up for the course by visiting the course page at [http://mlzoomcamp.com/](http://mlzoomcamp.com/).',\n",
       " 'answer_orig': 'Machine Learning Zoomcamp FAQ\\nThe purpose of this document is to capture frequently asked technical questions.\\nWe did this for our data engineering course and it worked quite well. Check this document for inspiration on how to structure your questions and answers:\\nData Engineering Zoomcamp FAQ\\nIn the course GitHub repository there’s a link. Here it is: https://airtable.com/shryxwLd0COOEaqXo\\nwork',\n",
       " 'document': '0227b872',\n",
       " 'question': 'Where can I sign up for the course?',\n",
       " 'course': 'machine-learning-zoomcamp'}"
      ]
     },
     "execution_count": 3,
     "metadata": {},
     "output_type": "execute_result"
    }
   ],
   "source": [
    "results_gpt4o_mini[0]"
   ]
  },
  {
   "cell_type": "markdown",
   "metadata": {},
   "source": [
    "We will use only the frist 300 documents:"
   ]
  },
  {
   "cell_type": "code",
   "execution_count": 4,
   "metadata": {},
   "outputs": [],
   "source": [
    "df = df.iloc[:300]"
   ]
  },
  {
   "cell_type": "code",
   "execution_count": 5,
   "metadata": {},
   "outputs": [
    {
     "data": {
      "text/html": [
       "<div>\n",
       "<style scoped>\n",
       "    .dataframe tbody tr th:only-of-type {\n",
       "        vertical-align: middle;\n",
       "    }\n",
       "\n",
       "    .dataframe tbody tr th {\n",
       "        vertical-align: top;\n",
       "    }\n",
       "\n",
       "    .dataframe thead th {\n",
       "        text-align: right;\n",
       "    }\n",
       "</style>\n",
       "<table border=\"1\" class=\"dataframe\">\n",
       "  <thead>\n",
       "    <tr style=\"text-align: right;\">\n",
       "      <th></th>\n",
       "      <th>answer_llm</th>\n",
       "      <th>answer_orig</th>\n",
       "      <th>document</th>\n",
       "      <th>question</th>\n",
       "      <th>course</th>\n",
       "    </tr>\n",
       "  </thead>\n",
       "  <tbody>\n",
       "    <tr>\n",
       "      <th>0</th>\n",
       "      <td>You can sign up for the course by visiting the...</td>\n",
       "      <td>Machine Learning Zoomcamp FAQ\\nThe purpose of ...</td>\n",
       "      <td>0227b872</td>\n",
       "      <td>Where can I sign up for the course?</td>\n",
       "      <td>machine-learning-zoomcamp</td>\n",
       "    </tr>\n",
       "    <tr>\n",
       "      <th>1</th>\n",
       "      <td>You can sign up using the link provided in the...</td>\n",
       "      <td>Machine Learning Zoomcamp FAQ\\nThe purpose of ...</td>\n",
       "      <td>0227b872</td>\n",
       "      <td>Can you provide a link to sign up?</td>\n",
       "      <td>machine-learning-zoomcamp</td>\n",
       "    </tr>\n",
       "    <tr>\n",
       "      <th>2</th>\n",
       "      <td>Yes, there is an FAQ for the Machine Learning ...</td>\n",
       "      <td>Machine Learning Zoomcamp FAQ\\nThe purpose of ...</td>\n",
       "      <td>0227b872</td>\n",
       "      <td>Is there an FAQ for this Machine Learning course?</td>\n",
       "      <td>machine-learning-zoomcamp</td>\n",
       "    </tr>\n",
       "    <tr>\n",
       "      <th>3</th>\n",
       "      <td>The context does not provide any specific info...</td>\n",
       "      <td>Machine Learning Zoomcamp FAQ\\nThe purpose of ...</td>\n",
       "      <td>0227b872</td>\n",
       "      <td>Does this course have a GitHub repository for ...</td>\n",
       "      <td>machine-learning-zoomcamp</td>\n",
       "    </tr>\n",
       "    <tr>\n",
       "      <th>4</th>\n",
       "      <td>To structure your questions and answers for th...</td>\n",
       "      <td>Machine Learning Zoomcamp FAQ\\nThe purpose of ...</td>\n",
       "      <td>0227b872</td>\n",
       "      <td>How can I structure my questions and answers f...</td>\n",
       "      <td>machine-learning-zoomcamp</td>\n",
       "    </tr>\n",
       "  </tbody>\n",
       "</table>\n",
       "</div>"
      ],
      "text/plain": [
       "                                          answer_llm  \\\n",
       "0  You can sign up for the course by visiting the...   \n",
       "1  You can sign up using the link provided in the...   \n",
       "2  Yes, there is an FAQ for the Machine Learning ...   \n",
       "3  The context does not provide any specific info...   \n",
       "4  To structure your questions and answers for th...   \n",
       "\n",
       "                                         answer_orig  document  \\\n",
       "0  Machine Learning Zoomcamp FAQ\\nThe purpose of ...  0227b872   \n",
       "1  Machine Learning Zoomcamp FAQ\\nThe purpose of ...  0227b872   \n",
       "2  Machine Learning Zoomcamp FAQ\\nThe purpose of ...  0227b872   \n",
       "3  Machine Learning Zoomcamp FAQ\\nThe purpose of ...  0227b872   \n",
       "4  Machine Learning Zoomcamp FAQ\\nThe purpose of ...  0227b872   \n",
       "\n",
       "                                            question  \\\n",
       "0                Where can I sign up for the course?   \n",
       "1                 Can you provide a link to sign up?   \n",
       "2  Is there an FAQ for this Machine Learning course?   \n",
       "3  Does this course have a GitHub repository for ...   \n",
       "4  How can I structure my questions and answers f...   \n",
       "\n",
       "                      course  \n",
       "0  machine-learning-zoomcamp  \n",
       "1  machine-learning-zoomcamp  \n",
       "2  machine-learning-zoomcamp  \n",
       "3  machine-learning-zoomcamp  \n",
       "4  machine-learning-zoomcamp  "
      ]
     },
     "execution_count": 5,
     "metadata": {},
     "output_type": "execute_result"
    }
   ],
   "source": [
    "df.head()"
   ]
  },
  {
   "cell_type": "code",
   "execution_count": 6,
   "metadata": {},
   "outputs": [
    {
     "data": {
      "text/plain": [
       "(300, 5)"
      ]
     },
     "execution_count": 6,
     "metadata": {},
     "output_type": "execute_result"
    }
   ],
   "source": [
    "df.shape"
   ]
  },
  {
   "cell_type": "markdown",
   "metadata": {},
   "source": [
    "## Q1 Getting the embeddings model\n",
    "\n",
    "Now get the embbeding model multi-qa-mpnet-base-dot-v1 from the Sentence Transformer library"
   ]
  },
  {
   "cell_type": "code",
   "execution_count": 7,
   "metadata": {},
   "outputs": [
    {
     "name": "stderr",
     "output_type": "stream",
     "text": [
      "c:\\Users\\User\\Documents\\llm-zoomcamp-dbeta95\\llm-zoomcampt-3.10\\lib\\site-packages\\tqdm\\auto.py:21: TqdmWarning: IProgress not found. Please update jupyter and ipywidgets. See https://ipywidgets.readthedocs.io/en/stable/user_install.html\n",
      "  from .autonotebook import tqdm as notebook_tqdm\n",
      "You try to use a model that was created with version 3.0.0.dev0, however, your version is 2.7.0. This might cause unexpected behavior or errors. In that case, try to update to the latest version.\n",
      "\n",
      "\n",
      "\n",
      "c:\\Users\\User\\Documents\\llm-zoomcamp-dbeta95\\llm-zoomcampt-3.10\\lib\\site-packages\\huggingface_hub\\file_download.py:1132: FutureWarning: `resume_download` is deprecated and will be removed in version 1.0.0. Downloads always resume when possible. If you want to force a new download, use `force_download=True`.\n",
      "  warnings.warn(\n"
     ]
    }
   ],
   "source": [
    "from sentence_transformers import SentenceTransformer\n",
    "\n",
    "model_name = 'multi-qa-mpnet-base-dot-v1'\n",
    "model = SentenceTransformer(model_name)"
   ]
  },
  {
   "cell_type": "markdown",
   "metadata": {},
   "source": [
    "Create the embbedings for the first LLM answer:"
   ]
  },
  {
   "cell_type": "code",
   "execution_count": 8,
   "metadata": {},
   "outputs": [],
   "source": [
    "answer_llm = df.iloc[0].answer_llm"
   ]
  },
  {
   "cell_type": "code",
   "execution_count": 9,
   "metadata": {},
   "outputs": [
    {
     "data": {
      "text/plain": [
       "'You can sign up for the course by visiting the course page at [http://mlzoomcamp.com/](http://mlzoomcamp.com/).'"
      ]
     },
     "execution_count": 9,
     "metadata": {},
     "output_type": "execute_result"
    }
   ],
   "source": [
    "answer_llm"
   ]
  },
  {
   "cell_type": "code",
   "execution_count": 10,
   "metadata": {},
   "outputs": [
    {
     "data": {
      "text/plain": [
       "-0.42244673"
      ]
     },
     "execution_count": 10,
     "metadata": {},
     "output_type": "execute_result"
    }
   ],
   "source": [
    "model.encode(answer_llm)[0]"
   ]
  },
  {
   "cell_type": "markdown",
   "metadata": {},
   "source": [
    "## Computing the dot product\n",
    "\n",
    "For each answer pair, let's create embeddings and compute dot product between them. \n",
    "We will put the results (scores) into the evaluations list.\n",
    "What's the 75% percentile of the score?"
   ]
  },
  {
   "cell_type": "code",
   "execution_count": 11,
   "metadata": {},
   "outputs": [],
   "source": [
    "results_dict = df.to_dict(orient=\"records\")"
   ]
  },
  {
   "cell_type": "code",
   "execution_count": 12,
   "metadata": {},
   "outputs": [
    {
     "name": "stderr",
     "output_type": "stream",
     "text": [
      "100%|██████████| 300/300 [01:14<00:00,  4.02it/s]\n"
     ]
    }
   ],
   "source": [
    "from tqdm.auto import tqdm\n",
    "\n",
    "def compute_similarity(record):\n",
    "    answer_orig = record['answer_orig']\n",
    "    answer_llm = record[\"answer_llm\"]\n",
    "    \n",
    "    v_orig = model.encode(answer_orig)\n",
    "    v_llm = model.encode(answer_llm)\n",
    "    \n",
    "    return v_llm.dot(v_orig)\n",
    "\n",
    "\n",
    "evaluations = [\n",
    "    compute_similarity(record) for record in tqdm(results_dict)\n",
    "]"
   ]
  },
  {
   "cell_type": "code",
   "execution_count": 13,
   "metadata": {},
   "outputs": [
    {
     "data": {
      "text/plain": [
       "count    300.000000\n",
       "mean      27.495996\n",
       "std        6.384742\n",
       "min        4.547925\n",
       "25%       24.307845\n",
       "50%       28.336873\n",
       "75%       31.674312\n",
       "max       39.476009\n",
       "dtype: float64"
      ]
     },
     "execution_count": 13,
     "metadata": {},
     "output_type": "execute_result"
    }
   ],
   "source": [
    "pd.Series(evaluations).describe()"
   ]
  },
  {
   "cell_type": "code",
   "execution_count": 14,
   "metadata": {},
   "outputs": [
    {
     "data": {
      "text/plain": [
       "31.674311637878418"
      ]
     },
     "execution_count": 14,
     "metadata": {},
     "output_type": "execute_result"
    }
   ],
   "source": [
    "import numpy as np\n",
    "\n",
    "np.percentile(evaluations, 75)"
   ]
  },
  {
   "cell_type": "markdown",
   "metadata": {},
   "source": [
    "## Q3. Computing the cosine\n",
    "\n",
    "We can see that the results are not within the [0,1] range. It's becouse the vecors coming from this model are not normalized.\n",
    "\n",
    "To normalize them we\n",
    "\n",
    "* Compute thenorm of a vector\n",
    "* Divide each element by this norm"
   ]
  },
  {
   "cell_type": "code",
   "execution_count": 15,
   "metadata": {},
   "outputs": [
    {
     "name": "stderr",
     "output_type": "stream",
     "text": [
      "100%|██████████| 300/300 [01:16<00:00,  3.91it/s]\n"
     ]
    }
   ],
   "source": [
    "\n",
    "def compute_cosine(record):\n",
    "    answer_orig = record['answer_orig']\n",
    "    answer_llm = record[\"answer_llm\"]\n",
    "    \n",
    "    v_orig = model.encode(answer_orig)\n",
    "    v_llm = model.encode(answer_llm)\n",
    "    \n",
    "    orig_norm = np.sqrt((v_orig*v_orig).sum())\n",
    "    llm_norm = np.sqrt((v_llm*v_llm).sum())\n",
    "    \n",
    "    v_orig_norm = v_orig/orig_norm\n",
    "    v_llm_norm = v_llm/llm_norm\n",
    "    \n",
    "    return v_llm_norm.dot(v_orig_norm)\n",
    "\n",
    "cosines = [\n",
    "    compute_cosine(record) for record in tqdm(results_dict)\n",
    "]"
   ]
  },
  {
   "cell_type": "code",
   "execution_count": 16,
   "metadata": {},
   "outputs": [
    {
     "data": {
      "text/plain": [
       "count    300.000000\n",
       "mean       0.728393\n",
       "std        0.157755\n",
       "min        0.125357\n",
       "25%        0.651273\n",
       "50%        0.763761\n",
       "75%        0.836235\n",
       "max        0.958796\n",
       "dtype: float64"
      ]
     },
     "execution_count": 16,
     "metadata": {},
     "output_type": "execute_result"
    }
   ],
   "source": [
    "pd.Series(cosines).describe()"
   ]
  },
  {
   "cell_type": "code",
   "execution_count": 17,
   "metadata": {},
   "outputs": [
    {
     "data": {
      "text/plain": [
       "0.836234912276268"
      ]
     },
     "execution_count": 17,
     "metadata": {},
     "output_type": "execute_result"
    }
   ],
   "source": [
    "np.percentile(cosines, 75)"
   ]
  },
  {
   "cell_type": "markdown",
   "metadata": {},
   "source": [
    "## Q4. Rouge\n",
    "\n",
    "Now we will explore analternative metric - the ROUGE score.\n",
    "\n",
    "This is a set of metrics that compares two answers based on the overlap of n-grams, word sequences, and word pairs.\n",
    "\n",
    "It can give a more nuanced view of text similaritythan just cosine similarity alone.\n",
    "\n",
    "We don't need to implement it ourselves, ther's a python package for it:"
   ]
  },
  {
   "cell_type": "code",
   "execution_count": 18,
   "metadata": {},
   "outputs": [
    {
     "name": "stdout",
     "output_type": "stream",
     "text": [
      "Defaulting to user installation because normal site-packages is not writeable\n",
      "Collecting rouge\n",
      "  Downloading rouge-1.0.1-py3-none-any.whl (13 kB)\n",
      "Requirement already satisfied: six in /usr/lib/python3/dist-packages (from rouge) (1.16.0)\n",
      "Installing collected packages: rouge\n"
     ]
    },
    {
     "name": "stderr",
     "output_type": "stream",
     "text": [
      "  WARNING: The script rouge is installed in '/home/dbetar95/.local/bin' which is not on PATH.\n",
      "  Consider adding this directory to PATH or, if you prefer to suppress this warning, use --no-warn-script-location.\n"
     ]
    },
    {
     "name": "stdout",
     "output_type": "stream",
     "text": [
      "Successfully installed rouge-1.0.1\n"
     ]
    }
   ],
   "source": [
    "%%bash\n",
    "\n",
    "pip install rouge"
   ]
  },
  {
   "cell_type": "markdown",
   "metadata": {},
   "source": [
    "Let's compute the ROUGE score between the answers at the index 10 of our dataframe (doc_id=5170565b)"
   ]
  },
  {
   "cell_type": "code",
   "execution_count": 21,
   "metadata": {},
   "outputs": [
    {
     "data": {
      "text/plain": [
       "answer_llm     Yes, all sessions are recorded, so if you miss...\n",
       "answer_orig    Everything is recorded, so you won’t miss anyt...\n",
       "document                                                5170565b\n",
       "question                    Are sessions recorded if I miss one?\n",
       "course                                 machine-learning-zoomcamp\n",
       "Name: 10, dtype: object"
      ]
     },
     "execution_count": 21,
     "metadata": {},
     "output_type": "execute_result"
    }
   ],
   "source": [
    "df.iloc[10, :]"
   ]
  },
  {
   "cell_type": "code",
   "execution_count": 27,
   "metadata": {},
   "outputs": [],
   "source": [
    "from rouge import Rouge\n",
    "rouge_scorer = Rouge()\n",
    "record = df.iloc[10, :]\n",
    "scores = rouge_scorer.get_scores(record['answer_llm'], record['answer_orig'])[0]"
   ]
  },
  {
   "cell_type": "markdown",
   "metadata": {},
   "source": [
    "There are three scores: rouge-1, rouge-2 and rouge-l, and precision, recall and F1 score for each.\n",
    "\n",
    "* rouge-1: The overlap of unigrams\n",
    "* rouge-2: Bigrams\n",
    "* rouge-l: The longest common subsequence"
   ]
  },
  {
   "cell_type": "code",
   "execution_count": 28,
   "metadata": {},
   "outputs": [
    {
     "data": {
      "text/plain": [
       "{'rouge-1': {'r': 0.45454545454545453,\n",
       "  'p': 0.45454545454545453,\n",
       "  'f': 0.45454544954545456},\n",
       " 'rouge-2': {'r': 0.21621621621621623,\n",
       "  'p': 0.21621621621621623,\n",
       "  'f': 0.21621621121621637},\n",
       " 'rouge-l': {'r': 0.3939393939393939,\n",
       "  'p': 0.3939393939393939,\n",
       "  'f': 0.393939388939394}}"
      ]
     },
     "execution_count": 28,
     "metadata": {},
     "output_type": "execute_result"
    }
   ],
   "source": [
    "scores"
   ]
  },
  {
   "cell_type": "markdown",
   "metadata": {},
   "source": [
    "## Q5. Average rouge score\n",
    "\n",
    "Let's compute the average Fscore between rouge-1, rouge-2 and rouge-l for the same record form Q4"
   ]
  },
  {
   "cell_type": "code",
   "execution_count": 33,
   "metadata": {},
   "outputs": [
    {
     "data": {
      "text/plain": [
       "0.35490034990035496"
      ]
     },
     "execution_count": 33,
     "metadata": {},
     "output_type": "execute_result"
    }
   ],
   "source": [
    "    \n",
    "np.mean([rouge['f'] for rouge in scores.values()])"
   ]
  },
  {
   "cell_type": "markdown",
   "metadata": {},
   "source": [
    "## Q6 Average rouge score for allthe data points\n",
    "\n",
    "Now let's comppute the score for all the records and create a dataframe form them\n",
    "\n",
    "What's the averafe rouge_2 acrros all the records"
   ]
  },
  {
   "cell_type": "code",
   "execution_count": 34,
   "metadata": {},
   "outputs": [],
   "source": [
    "def get_rouge_socres(record):\n",
    "    return rouge_scorer.get_scores(record['answer_llm'], record['answer_orig'])[0]"
   ]
  },
  {
   "cell_type": "code",
   "execution_count": 36,
   "metadata": {},
   "outputs": [],
   "source": [
    "rouge_scores = list(df.apply(get_rouge_socres, axis=1))"
   ]
  },
  {
   "cell_type": "code",
   "execution_count": 37,
   "metadata": {},
   "outputs": [
    {
     "data": {
      "text/html": [
       "<div>\n",
       "<style scoped>\n",
       "    .dataframe tbody tr th:only-of-type {\n",
       "        vertical-align: middle;\n",
       "    }\n",
       "\n",
       "    .dataframe tbody tr th {\n",
       "        vertical-align: top;\n",
       "    }\n",
       "\n",
       "    .dataframe thead th {\n",
       "        text-align: right;\n",
       "    }\n",
       "</style>\n",
       "<table border=\"1\" class=\"dataframe\">\n",
       "  <thead>\n",
       "    <tr style=\"text-align: right;\">\n",
       "      <th></th>\n",
       "      <th>rouge-1</th>\n",
       "      <th>rouge-2</th>\n",
       "      <th>rouge-l</th>\n",
       "    </tr>\n",
       "  </thead>\n",
       "  <tbody>\n",
       "    <tr>\n",
       "      <th>0</th>\n",
       "      <td>{'r': 0.061224489795918366, 'p': 0.21428571428...</td>\n",
       "      <td>{'r': 0.017543859649122806, 'p': 0.07142857142...</td>\n",
       "      <td>{'r': 0.061224489795918366, 'p': 0.21428571428...</td>\n",
       "    </tr>\n",
       "    <tr>\n",
       "      <th>1</th>\n",
       "      <td>{'r': 0.08163265306122448, 'p': 0.266666666666...</td>\n",
       "      <td>{'r': 0.03508771929824561, 'p': 0.133333333333...</td>\n",
       "      <td>{'r': 0.061224489795918366, 'p': 0.2, 'f': 0.0...</td>\n",
       "    </tr>\n",
       "    <tr>\n",
       "      <th>2</th>\n",
       "      <td>{'r': 0.32653061224489793, 'p': 0.571428571428...</td>\n",
       "      <td>{'r': 0.14035087719298245, 'p': 0.242424242424...</td>\n",
       "      <td>{'r': 0.30612244897959184, 'p': 0.535714285714...</td>\n",
       "    </tr>\n",
       "    <tr>\n",
       "      <th>3</th>\n",
       "      <td>{'r': 0.16326530612244897, 'p': 0.32, 'f': 0.2...</td>\n",
       "      <td>{'r': 0.03508771929824561, 'p': 0.071428571428...</td>\n",
       "      <td>{'r': 0.14285714285714285, 'p': 0.28, 'f': 0.1...</td>\n",
       "    </tr>\n",
       "    <tr>\n",
       "      <th>4</th>\n",
       "      <td>{'r': 0.2653061224489796, 'p': 0.0970149253731...</td>\n",
       "      <td>{'r': 0.07017543859649122, 'p': 0.022346368715...</td>\n",
       "      <td>{'r': 0.22448979591836735, 'p': 0.082089552238...</td>\n",
       "    </tr>\n",
       "    <tr>\n",
       "      <th>...</th>\n",
       "      <td>...</td>\n",
       "      <td>...</td>\n",
       "      <td>...</td>\n",
       "    </tr>\n",
       "    <tr>\n",
       "      <th>295</th>\n",
       "      <td>{'r': 0.6428571428571429, 'p': 0.6666666666666...</td>\n",
       "      <td>{'r': 0.559322033898305, 'p': 0.52380952380952...</td>\n",
       "      <td>{'r': 0.6071428571428571, 'p': 0.6296296296296...</td>\n",
       "    </tr>\n",
       "    <tr>\n",
       "      <th>296</th>\n",
       "      <td>{'r': 0.6428571428571429, 'p': 0.5454545454545...</td>\n",
       "      <td>{'r': 0.5423728813559322, 'p': 0.4, 'f': 0.460...</td>\n",
       "      <td>{'r': 0.6071428571428571, 'p': 0.5151515151515...</td>\n",
       "    </tr>\n",
       "    <tr>\n",
       "      <th>297</th>\n",
       "      <td>{'r': 0.6607142857142857, 'p': 0.6491228070175...</td>\n",
       "      <td>{'r': 0.5932203389830508, 'p': 0.5384615384615...</td>\n",
       "      <td>{'r': 0.6428571428571429, 'p': 0.6315789473684...</td>\n",
       "    </tr>\n",
       "    <tr>\n",
       "      <th>298</th>\n",
       "      <td>{'r': 0.2857142857142857, 'p': 0.3265306122448...</td>\n",
       "      <td>{'r': 0.13559322033898305, 'p': 0.129032258064...</td>\n",
       "      <td>{'r': 0.2857142857142857, 'p': 0.3265306122448...</td>\n",
       "    </tr>\n",
       "    <tr>\n",
       "      <th>299</th>\n",
       "      <td>{'r': 0.125, 'p': 0.3181818181818182, 'f': 0.1...</td>\n",
       "      <td>{'r': 0.01694915254237288, 'p': 0.038461538461...</td>\n",
       "      <td>{'r': 0.10714285714285714, 'p': 0.272727272727...</td>\n",
       "    </tr>\n",
       "  </tbody>\n",
       "</table>\n",
       "<p>300 rows × 3 columns</p>\n",
       "</div>"
      ],
      "text/plain": [
       "                                               rouge-1  \\\n",
       "0    {'r': 0.061224489795918366, 'p': 0.21428571428...   \n",
       "1    {'r': 0.08163265306122448, 'p': 0.266666666666...   \n",
       "2    {'r': 0.32653061224489793, 'p': 0.571428571428...   \n",
       "3    {'r': 0.16326530612244897, 'p': 0.32, 'f': 0.2...   \n",
       "4    {'r': 0.2653061224489796, 'p': 0.0970149253731...   \n",
       "..                                                 ...   \n",
       "295  {'r': 0.6428571428571429, 'p': 0.6666666666666...   \n",
       "296  {'r': 0.6428571428571429, 'p': 0.5454545454545...   \n",
       "297  {'r': 0.6607142857142857, 'p': 0.6491228070175...   \n",
       "298  {'r': 0.2857142857142857, 'p': 0.3265306122448...   \n",
       "299  {'r': 0.125, 'p': 0.3181818181818182, 'f': 0.1...   \n",
       "\n",
       "                                               rouge-2  \\\n",
       "0    {'r': 0.017543859649122806, 'p': 0.07142857142...   \n",
       "1    {'r': 0.03508771929824561, 'p': 0.133333333333...   \n",
       "2    {'r': 0.14035087719298245, 'p': 0.242424242424...   \n",
       "3    {'r': 0.03508771929824561, 'p': 0.071428571428...   \n",
       "4    {'r': 0.07017543859649122, 'p': 0.022346368715...   \n",
       "..                                                 ...   \n",
       "295  {'r': 0.559322033898305, 'p': 0.52380952380952...   \n",
       "296  {'r': 0.5423728813559322, 'p': 0.4, 'f': 0.460...   \n",
       "297  {'r': 0.5932203389830508, 'p': 0.5384615384615...   \n",
       "298  {'r': 0.13559322033898305, 'p': 0.129032258064...   \n",
       "299  {'r': 0.01694915254237288, 'p': 0.038461538461...   \n",
       "\n",
       "                                               rouge-l  \n",
       "0    {'r': 0.061224489795918366, 'p': 0.21428571428...  \n",
       "1    {'r': 0.061224489795918366, 'p': 0.2, 'f': 0.0...  \n",
       "2    {'r': 0.30612244897959184, 'p': 0.535714285714...  \n",
       "3    {'r': 0.14285714285714285, 'p': 0.28, 'f': 0.1...  \n",
       "4    {'r': 0.22448979591836735, 'p': 0.082089552238...  \n",
       "..                                                 ...  \n",
       "295  {'r': 0.6071428571428571, 'p': 0.6296296296296...  \n",
       "296  {'r': 0.6071428571428571, 'p': 0.5151515151515...  \n",
       "297  {'r': 0.6428571428571429, 'p': 0.6315789473684...  \n",
       "298  {'r': 0.2857142857142857, 'p': 0.3265306122448...  \n",
       "299  {'r': 0.10714285714285714, 'p': 0.272727272727...  \n",
       "\n",
       "[300 rows x 3 columns]"
      ]
     },
     "execution_count": 37,
     "metadata": {},
     "output_type": "execute_result"
    }
   ],
   "source": [
    "pd.DataFrame(rouge_scores)"
   ]
  },
  {
   "cell_type": "code",
   "execution_count": 40,
   "metadata": {},
   "outputs": [
    {
     "data": {
      "text/plain": [
       "0.313205367339838"
      ]
     },
     "execution_count": 40,
     "metadata": {},
     "output_type": "execute_result"
    }
   ],
   "source": [
    "np.mean(list(map(lambda scores: np.mean([rouge['f'] for rouge in scores.values()]), rouge_scores)))"
   ]
  },
  {
   "cell_type": "code",
   "execution_count": 42,
   "metadata": {},
   "outputs": [
    {
     "data": {
      "text/plain": [
       "0.20696501983423318"
      ]
     },
     "execution_count": 42,
     "metadata": {},
     "output_type": "execute_result"
    }
   ],
   "source": [
    "np.mean(list(score['rouge-2']['f'] for score in  rouge_scores))"
   ]
  }
 ],
 "metadata": {
  "kernelspec": {
   "display_name": "llm-zoomcampt-3.10",
   "language": "python",
   "name": "python3"
  },
  "language_info": {
   "codemirror_mode": {
    "name": "ipython",
    "version": 3
   },
   "file_extension": ".py",
   "mimetype": "text/x-python",
   "name": "python",
   "nbconvert_exporter": "python",
   "pygments_lexer": "ipython3",
   "version": "3.10.11"
  }
 },
 "nbformat": 4,
 "nbformat_minor": 2
}
