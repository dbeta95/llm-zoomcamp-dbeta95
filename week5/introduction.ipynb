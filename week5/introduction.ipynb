{
 "cells": [
  {
   "cell_type": "markdown",
   "metadata": {},
   "source": [
    "# LLM Orchestration\n",
    "\n",
    "This module covers the orchestration of LLM's, particularly the data preparation part, which:\n",
    "\n",
    " * Load: In this stage we ingest the documents. It's the stage in which data is imported from various sources into the RAG\n",
    " * Transform: The stage where import data is processed, cleaned, and prepared for further use in the RAG pipeline\n",
    " * Export: The stage where processed data is exported to various storage systems for efficient retireval\n",
    " * Index: The final stage of data prparation where exported data is dexed for quick and efficient retrieval during the inference process.\n",
    "\n",
    "We will create pipelines in Mage for this"
   ]
  }
 ],
 "metadata": {
  "language_info": {
   "name": "python"
  }
 },
 "nbformat": 4,
 "nbformat_minor": 2
}
