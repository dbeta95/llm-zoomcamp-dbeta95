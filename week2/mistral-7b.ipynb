{
 "cells": [
  {
   "cell_type": "code",
   "execution_count": 1,
   "id": "0d5c89a2-a3c5-41f4-8382-25429a97627b",
   "metadata": {
    "execution": {
     "iopub.execute_input": "2024-07-04T05:53:51.099274Z",
     "iopub.status.busy": "2024-07-04T05:53:51.098780Z",
     "iopub.status.idle": "2024-07-04T05:53:51.106578Z",
     "shell.execute_reply": "2024-07-04T05:53:51.105902Z",
     "shell.execute_reply.started": "2024-07-04T05:53:51.099252Z"
    },
    "tags": []
   },
   "outputs": [],
   "source": [
    "import os\n",
    "os.environ['HF_HOME'] = '/run/cache/'"
   ]
  },
  {
   "cell_type": "code",
   "execution_count": 2,
   "id": "51b929e9-4618-456c-ac6c-920b157fcbd4",
   "metadata": {
    "execution": {
     "iopub.execute_input": "2024-07-04T05:53:52.442662Z",
     "iopub.status.busy": "2024-07-04T05:53:52.442301Z",
     "iopub.status.idle": "2024-07-04T05:53:53.536624Z",
     "shell.execute_reply": "2024-07-04T05:53:53.535960Z",
     "shell.execute_reply.started": "2024-07-04T05:53:52.442637Z"
    },
    "tags": []
   },
   "outputs": [],
   "source": [
    "import requests \n",
    "import minsearch\n",
    "\n",
    "docs_url = 'https://github.com/DataTalksClub/llm-zoomcamp/blob/main/01-intro/documents.json?raw=1'\n",
    "docs_response = requests.get(docs_url)\n",
    "documents_raw = docs_response.json()\n",
    "\n",
    "documents = []\n",
    "\n",
    "for course in documents_raw:\n",
    "    course_name = course['course']\n",
    "\n",
    "    for doc in course['documents']:\n",
    "        doc['course'] = course_name\n",
    "        documents.append(doc)\n",
    "\n",
    "index = minsearch.Index(\n",
    "    text_fields=[\"question\", \"text\", \"section\"],\n",
    "    keyword_fields=[\"course\"]\n",
    ")\n",
    "\n",
    "index.fit(documents)\n",
    "\n",
    "def search(query):\n",
    "    boost = {'question': 3.0, 'section': 0.5}\n",
    "\n",
    "    results = index.search(\n",
    "        query=query,\n",
    "        filter_dict={'course': 'data-engineering-zoomcamp'},\n",
    "        boost_dict=boost,\n",
    "        num_results=5\n",
    "    )\n",
    "\n",
    "    return results"
   ]
  },
  {
   "cell_type": "code",
   "execution_count": 5,
   "id": "32866510-13d6-48d8-8065-bf6f04f57e1f",
   "metadata": {
    "execution": {
     "iopub.execute_input": "2024-07-04T05:54:01.555169Z",
     "iopub.status.busy": "2024-07-04T05:54:01.554794Z",
     "iopub.status.idle": "2024-07-04T05:54:01.558765Z",
     "shell.execute_reply": "2024-07-04T05:54:01.558091Z",
     "shell.execute_reply.started": "2024-07-04T05:54:01.555144Z"
    },
    "tags": []
   },
   "outputs": [],
   "source": [
    "from transformers import AutoModelForCausalLM\n",
    "from transformers import AutoTokenizer\n",
    "\n",
    "import os\n",
    "\n",
    "HF_TOKEN = os.getenv('HF_TOKEN')"
   ]
  },
  {
   "cell_type": "code",
   "execution_count": 9,
   "id": "6c11f121-c83f-4a17-9949-d1d02b76e344",
   "metadata": {
    "execution": {
     "iopub.execute_input": "2024-07-04T05:56:45.228442Z",
     "iopub.status.busy": "2024-07-04T05:56:45.227937Z",
     "iopub.status.idle": "2024-07-04T05:56:45.257502Z",
     "shell.execute_reply": "2024-07-04T05:56:45.256868Z",
     "shell.execute_reply.started": "2024-07-04T05:56:45.228410Z"
    },
    "tags": []
   },
   "outputs": [
    {
     "name": "stdout",
     "output_type": "stream",
     "text": [
      "The token has not been saved to the git credentials helper. Pass `add_to_git_credential=True` in this function directly or `--add-to-git-credential` if using via `huggingface-cli` if you want to set the git credential as well.\n",
      "Token is valid (permission: fineGrained).\n",
      "Your token has been saved to /run/cache/token\n",
      "Login successful\n"
     ]
    }
   ],
   "source": [
    "from huggingface_hub import login\n",
    "\n",
    "login(token=HF_TOKEN)"
   ]
  },
  {
   "cell_type": "code",
   "execution_count": 37,
   "id": "15cdc237-2920-4387-8dee-1c9c4f0e2246",
   "metadata": {
    "execution": {
     "iopub.execute_input": "2024-07-04T06:16:52.258033Z",
     "iopub.status.busy": "2024-07-04T06:16:52.257644Z",
     "iopub.status.idle": "2024-07-04T06:20:00.425326Z",
     "shell.execute_reply": "2024-07-04T06:20:00.424615Z",
     "shell.execute_reply.started": "2024-07-04T06:16:52.258007Z"
    },
    "tags": []
   },
   "outputs": [
    {
     "name": "stderr",
     "output_type": "stream",
     "text": [
      "The `load_in_4bit` and `load_in_8bit` arguments are deprecated and will be removed in the future versions. Please, pass a `BitsAndBytesConfig` object in `quantization_config` argument instead.\n"
     ]
    },
    {
     "data": {
      "application/vnd.jupyter.widget-view+json": {
       "model_id": "b233a75aa87d44bda824987db6a0ed7a",
       "version_major": 2,
       "version_minor": 0
      },
      "text/plain": [
       "Loading checkpoint shards:   0%|          | 0/2 [00:00<?, ?it/s]"
      ]
     },
     "metadata": {},
     "output_type": "display_data"
    }
   ],
   "source": [
    "\n",
    "model = AutoModelForCausalLM.from_pretrained(\n",
    "    \"mistralai/Mistral-7B-v0.1\", device_map=\"auto\", load_in_4bit=True\n",
    ")\n",
    "\n",
    "tokenizer = AutoTokenizer.from_pretrained(\"mistralai/Mistral-7B-v0.1\", padding_side=\"left\")\n",
    "model_inputs = tokenizer([\"A list of colors: red, blue\"], return_tensors=\"pt\").to(\"cuda\")"
   ]
  },
  {
   "cell_type": "code",
   "execution_count": 38,
   "id": "cc78d475-6a4a-4ed1-8c0f-39bd35b0b116",
   "metadata": {
    "execution": {
     "iopub.execute_input": "2024-07-04T06:20:38.302499Z",
     "iopub.status.busy": "2024-07-04T06:20:38.302063Z",
     "iopub.status.idle": "2024-07-04T06:20:39.528184Z",
     "shell.execute_reply": "2024-07-04T06:20:39.527446Z",
     "shell.execute_reply.started": "2024-07-04T06:20:38.302469Z"
    },
    "tags": []
   },
   "outputs": [
    {
     "name": "stderr",
     "output_type": "stream",
     "text": [
      "Setting `pad_token_id` to `eos_token_id`:2 for open-end generation.\n",
      "/opt/saturncloud/envs/saturn/lib/python3.9/site-packages/transformers/generation/utils.py:1249: UserWarning: Using the model-agnostic default `max_length` (=20) to control the generation length. We recommend setting `max_new_tokens` to control the maximum length of the generation.\n",
      "  warnings.warn(\n"
     ]
    },
    {
     "data": {
      "text/plain": [
       "'A list of colors: red, blue, green, yellow, orange, purple, pink,'"
      ]
     },
     "execution_count": 38,
     "metadata": {},
     "output_type": "execute_result"
    }
   ],
   "source": [
    "generated_ids = model.generate(**model_inputs)\n",
    "tokenizer.batch_decode(generated_ids, skip_special_tokens=True)[0]"
   ]
  },
  {
   "cell_type": "code",
   "execution_count": 39,
   "id": "bf6a31e9-5a15-4230-b2e3-8ba62cf6893e",
   "metadata": {
    "execution": {
     "iopub.execute_input": "2024-07-04T06:20:40.712648Z",
     "iopub.status.busy": "2024-07-04T06:20:40.712247Z",
     "iopub.status.idle": "2024-07-04T06:20:40.721682Z",
     "shell.execute_reply": "2024-07-04T06:20:40.720858Z",
     "shell.execute_reply.started": "2024-07-04T06:20:40.712622Z"
    },
    "tags": []
   },
   "outputs": [],
   "source": [
    "\n",
    "from transformers import pipeline\n",
    "generator = pipeline(\"text-generation\", model=model, tokenizer=tokenizer)\n"
   ]
  },
  {
   "cell_type": "code",
   "execution_count": 40,
   "id": "50aa03cb-40bf-46b1-ad80-ebadf8e3d03b",
   "metadata": {
    "execution": {
     "iopub.execute_input": "2024-07-04T06:20:41.297299Z",
     "iopub.status.busy": "2024-07-04T06:20:41.296916Z",
     "iopub.status.idle": "2024-07-04T06:20:41.302230Z",
     "shell.execute_reply": "2024-07-04T06:20:41.301587Z",
     "shell.execute_reply.started": "2024-07-04T06:20:41.297270Z"
    },
    "tags": []
   },
   "outputs": [],
   "source": [
    "def build_prompt(query, search_results):\n",
    "    prompt_template = \"\"\"\n",
    "QUESTION: {question}\n",
    "\n",
    "CONTEXT:\n",
    "{context}\n",
    "\n",
    "ANSWER:\n",
    "\"\"\".strip()\n",
    "\n",
    "    context = \"\"\n",
    "    \n",
    "    for doc in search_results:\n",
    "        context = context + f\"{doc['question']}\\n{doc['text']}\\n\\n\"\n",
    "    \n",
    "    prompt = prompt_template.format(question=query, context=context).strip()\n",
    "    return prompt\n",
    "\n",
    "def llm(prompt):\n",
    "    response = generator(prompt, max_length=500, temperature=0.7, top_p=0.95, num_return_sequences=1)\n",
    "    response_final = response[0]['generated_text']\n",
    "    return response_final[len(prompt):].strip()"
   ]
  },
  {
   "cell_type": "code",
   "execution_count": 41,
   "id": "e593a637-2a1c-458a-b708-4b855e2ebaf1",
   "metadata": {
    "execution": {
     "iopub.execute_input": "2024-07-04T06:20:42.455352Z",
     "iopub.status.busy": "2024-07-04T06:20:42.454950Z",
     "iopub.status.idle": "2024-07-04T06:20:42.459102Z",
     "shell.execute_reply": "2024-07-04T06:20:42.458333Z",
     "shell.execute_reply.started": "2024-07-04T06:20:42.455324Z"
    },
    "tags": []
   },
   "outputs": [],
   "source": [
    "def rag(query):\n",
    "    search_results = search(query)\n",
    "    prompt = build_prompt(query, search_results)\n",
    "    answer = llm(prompt)\n",
    "    return answer"
   ]
  },
  {
   "cell_type": "code",
   "execution_count": 42,
   "id": "36078e7e-3182-41cf-8187-c61889323a9c",
   "metadata": {
    "execution": {
     "iopub.execute_input": "2024-07-04T06:22:01.070524Z",
     "iopub.status.busy": "2024-07-04T06:22:01.070092Z",
     "iopub.status.idle": "2024-07-04T06:22:08.093164Z",
     "shell.execute_reply": "2024-07-04T06:22:08.092320Z",
     "shell.execute_reply.started": "2024-07-04T06:22:01.070497Z"
    },
    "tags": []
   },
   "outputs": [
    {
     "name": "stderr",
     "output_type": "stream",
     "text": [
      "Truncation was not explicitly activated but `max_length` is provided a specific value, please use `truncation=True` to explicitly truncate examples to max length. Defaulting to 'longest_first' truncation strategy. If you encode pairs of sequences (GLUE-style) with the tokenizer you can select this strategy more precisely by providing a specific strategy to `truncation`.\n",
      "/opt/saturncloud/envs/saturn/lib/python3.9/site-packages/transformers/generation/configuration_utils.py:540: UserWarning: `do_sample` is set to `False`. However, `temperature` is set to `0.7` -- this flag is only used in sample-based generation modes. You should set `do_sample=True` or unset `temperature`.\n",
      "  warnings.warn(\n",
      "/opt/saturncloud/envs/saturn/lib/python3.9/site-packages/transformers/generation/configuration_utils.py:545: UserWarning: `do_sample` is set to `False`. However, `top_p` is set to `0.95` -- this flag is only used in sample-based generation modes. You should set `do_sample=True` or unset `top_p`.\n",
      "  warnings.warn(\n",
      "Setting `pad_token_id` to `eos_token_id`:2 for open-end generation.\n"
     ]
    },
    {
     "data": {
      "text/plain": [
       "''"
      ]
     },
     "execution_count": 42,
     "metadata": {},
     "output_type": "execute_result"
    }
   ],
   "source": [
    "rag(\"I just discovered the course. Can I still join it?\")"
   ]
  },
  {
   "cell_type": "code",
   "execution_count": null,
   "id": "b2a7bdfa-c3b4-4d93-8dba-04f941d18d2a",
   "metadata": {},
   "outputs": [],
   "source": []
  }
 ],
 "metadata": {
  "kernelspec": {
   "display_name": "saturn (Python 3)",
   "language": "python",
   "name": "python3"
  },
  "language_info": {
   "codemirror_mode": {
    "name": "ipython",
    "version": 3
   },
   "file_extension": ".py",
   "mimetype": "text/x-python",
   "name": "python",
   "nbconvert_exporter": "python",
   "pygments_lexer": "ipython3",
   "version": "3.9.18"
  }
 },
 "nbformat": 4,
 "nbformat_minor": 5
}
