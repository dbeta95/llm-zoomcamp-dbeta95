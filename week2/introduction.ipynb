{
 "cells": [
  {
   "cell_type": "markdown",
   "metadata": {},
   "source": [
    "# Open-Source LLMs\n",
    "\n",
    "This section focus on open-source LLMs alternative to GPT that can be run from a local machine or in a VM but where we have full control of the model. Some well kwnon models are:\n",
    "\n",
    "* LLaMA (Large Language Model Meta AI)\n",
    "* FLAN-T5\n",
    "* Mistral\n",
    "* Phi\n",
    "\n",
    "Running those models requires a GPU, therefore the section will cover proper environments for open source LLMs as well\n",
    "\n"
   ]
  }
 ],
 "metadata": {
  "language_info": {
   "name": "python"
  }
 },
 "nbformat": 4,
 "nbformat_minor": 2
}
